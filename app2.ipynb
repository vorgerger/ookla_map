{
 "cells": [
  {
   "cell_type": "markdown",
   "metadata": {},
   "source": [
    "## Import required libraries"
   ]
  },
  {
   "cell_type": "code",
   "execution_count": null,
   "metadata": {
    "scrolled": true
   },
   "outputs": [],
   "source": [
    "import geopandas\n",
    "import plotly.express as px\n",
    "import pandas as pd\n",
    "import dash\n",
    "import dash_core_components as dcc\n",
    "import dash_html_components as html\n",
    "from dash.dependencies import Input, Output"
   ]
  },
  {
   "cell_type": "markdown",
   "metadata": {},
   "source": [
    "## Read Ookla dataset\n",
    "[This tutorial](https://github.com/teamookla/ookla-open-data/blob/master/tutorials/aggregate_by_county_py.ipynb) shows how to download dataset automatically every quarter from [AWS server](https://registry.opendata.aws/speedtest-global-performance/). Since the file is very big and it takes time to download it, to read it and filter required data, I skip this phase here and will be using earlier created file with filtered data for Finland. "
   ]
  },
  {
   "cell_type": "code",
   "execution_count": null,
   "metadata": {},
   "outputs": [],
   "source": [
    "#world = geopandas.read_file('Data/OrigOoklaData/gps_mobile_tiles.shp')\n",
    "\n",
    "##print(world.head())\n",
    "##print(world.columns)\n"
   ]
  },
  {
   "cell_type": "markdown",
   "metadata": {},
   "source": [
    "### Filter data data for Finland\n",
    "Fitering is done using 'quadkey' information. You can check corresponding quadkeys from [Mapbox website](https://labs.mapbox.com/what-the-tile/)."
   ]
  },
  {
   "cell_type": "code",
   "execution_count": null,
   "metadata": {
    "scrolled": false
   },
   "outputs": [],
   "source": [
    "#finland = world[world['quadkey'].str.startswith('120120033')]\n",
    "#finland.to_file(\"finland.shp\")\n",
    "##print(finland.head())\n",
    "##print(finland.columns)\n"
   ]
  },
  {
   "cell_type": "markdown",
   "metadata": {},
   "source": [
    "#### Prepare data for choropleth_mapbox plotting\n",
    "Since downloading, reading and filtering data takes time. Below I use \"finland.shp\" file that has already been creted."
   ]
  },
  {
   "cell_type": "code",
   "execution_count": null,
   "metadata": {},
   "outputs": [],
   "source": [
    "finland = geopandas.read_file('Data/FinlandData/finland.shp') \n",
    "finland['avg_d_mbps'] = finland['avg_d_kbps']/1000 #create new column for avg_d_mbps.\n",
    "\n",
    "#print(finland.head())"
   ]
  },
  {
   "cell_type": "markdown",
   "metadata": {},
   "source": [
    "##### Quantiles\n",
    "Quantiles for finland['avg_d_mbps'] in order to plot 'avg_d_mbps' in ranges.\n",
    "I am pretty sure there is a smarter way to do that, which I have not learnt yet :)"
   ]
  },
  {
   "cell_type": "code",
   "execution_count": null,
   "metadata": {},
   "outputs": [],
   "source": [
    "avg_d_q1 = round(finland['avg_d_mbps'].quantile(.1),1) \n",
    "avg_d_q2 = round(finland['avg_d_mbps'].quantile(.2),1)\n",
    "avg_d_q3 = round(finland['avg_d_mbps'].quantile(.3),1)\n",
    "avg_d_q4 = round(finland['avg_d_mbps'].quantile(.4),1)\n",
    "avg_d_q5 = round(finland['avg_d_mbps'].quantile(.5),1)\n",
    "avg_d_q6 = round(finland['avg_d_mbps'].quantile(.6),1)\n",
    "avg_d_q7 = round(finland['avg_d_mbps'].quantile(.7),1)\n",
    "avg_d_q8 = round(finland['avg_d_mbps'].quantile(.8),1)\n",
    "avg_d_q9 = round(finland['avg_d_mbps'].quantile(.9),1)\n",
    "\n",
    "bins = [0, avg_d_q1, avg_d_q2, avg_d_q3, avg_d_q4, avg_d_q5, avg_d_q6, avg_d_q7, avg_d_q8, avg_d_q9,finland['avg_d_mbps'].max()]\n",
    "labels = ['<{}'.format(avg_d_q1),\n",
    "        '>={} & <{}'.format(avg_d_q1,avg_d_q2),\n",
    "        '>={} & <{}'.format(avg_d_q2,avg_d_q3),\n",
    "        '>={} & <{}'.format(avg_d_q3,avg_d_q4),\n",
    "        '>={} & <{}'.format(avg_d_q4,avg_d_q5),\n",
    "        '>={} & <{}'.format(avg_d_q5,avg_d_q6),\n",
    "        '>={} & <{}'.format(avg_d_q6,avg_d_q7),\n",
    "        '>={} & <{}'.format(avg_d_q7,avg_d_q8),\n",
    "        '>={} & <{}'.format(avg_d_q8,avg_d_q9),\n",
    "        '>={}'.format(avg_d_q9)\n",
    "]"
   ]
  },
  {
   "cell_type": "markdown",
   "metadata": {},
   "source": [
    "Create new column 'avg_d_mbps_ranges' with corresponding ranges for 'avg_d_mbps'. \n",
    "Sort values in finland dataframe to allocate colour on the choropleth_mapbox plot in logical order."
   ]
  },
  {
   "cell_type": "code",
   "execution_count": null,
   "metadata": {},
   "outputs": [],
   "source": [
    "finland['avg_d_mbps_ranges'] = pd.cut(finland['avg_d_mbps'], bins=bins, labels=labels)\n",
    "finland = finland.sort_values(by=['avg_d_mbps'])\n",
    "#print(finland['avg_d_mbps_ranges'].unique())\n",
    "\n",
    "#finland = finland.head(1000) # is to limit data for running the dashboard on Heroku server."
   ]
  },
  {
   "cell_type": "markdown",
   "metadata": {},
   "source": [
    "## Plot data on the map"
   ]
  },
  {
   "cell_type": "code",
   "execution_count": null,
   "metadata": {
    "scrolled": false
   },
   "outputs": [],
   "source": [
    "fig = px.choropleth_mapbox(finland,\n",
    "                geojson=finland.geometry,\n",
    "                locations=finland.index,\n",
    "                color=\"avg_d_mbps_ranges\",\n",
    "                color_discrete_sequence= px.colors.sequential.Turbo_r,\n",
    "                opacity=0.5,\n",
    "                hover_data = ['avg_d_mbps_ranges','avg_d_mbps','avg_u_kbps','tests','devices'],\n",
    "                custom_data = ['avg_d_mbps'],\n",
    "                center = {'lat':60.2825,'lon':24.9271},\n",
    "                mapbox_style=\"open-street-map\")\n",
    "#fig.update_geos(fitbounds=\"locations\", visible=False)\n",
    "fig.show()"
   ]
  },
  {
   "cell_type": "markdown",
   "metadata": {},
   "source": [
    "## Create dashboard\n",
    "Dashboard inludes H1, H2, Markdown and Graph elements. \n",
    "Create call back for hovering over a map tile. "
   ]
  },
  {
   "cell_type": "code",
   "execution_count": null,
   "metadata": {
    "scrolled": true
   },
   "outputs": [],
   "source": [
    "app = dash.Dash()\n",
    "\n",
    "## Three lines below are form running the dashboard on Heroku server.\n",
    "#USERNAME_PASSWORD_PAIRS = [['XXXX', 'XXXX']]\n",
    "#auth = dash_auth.BasicAuth(app,USERNAME_PASSWORD_PAIRS)\n",
    "#server = app.server\n",
    "\n",
    "app.layout = html.Div([\n",
    "    html.H1('Speedtest by Ookla Mobile Network'),\n",
    "    html.H2('Performance Map Tiles'),\n",
    "    dcc.Markdown('''\n",
    "                #### This dashbord was built using [Ookla Open Dataset](https://registry.opendata.aws/speedtest-global-performance/).\n",
    "                ##### Used data shows mobile (cellular) network performance metrics in zoom level 16 web mercator tiles (approximately 610.8 meters by 610.8 meters at the equator). \n",
    "            '''),\n",
    "\n",
    "    dcc.Graph(id='map',figure=fig),\n",
    "    html.Div([\n",
    "        html.H3(id='counter')\n",
    "    ],style={'display':'inline-block'})  \n",
    "])\n",
    "\n",
    "\n",
    "@app.callback(Output('counter', 'children'),\n",
    "              [Input('map', 'hoverData')])\n",
    "def find_counter(hoverData):\n",
    "    #pts = len(selectedData['points'])\n",
    "    #rng_or_lp = list(selectedData.keys())\n",
    "    #rng_or_lp.remove('lassoPoints')\n",
    "    \n",
    "    mean = hoverData['points'][0]['customdata'][0]\n",
    "   # data = selectedData['points']['customdata'[2]]\n",
    "    #rng_or_lp = list(selectedData.keys())\n",
    "    #rng_or_lp.remove('points')\n",
    "    #avg_thp = mean(selectedData[rng_or_lp[0]]['customdata'[1]])\n",
    "    #return 'Counter = {:.2f}'.format(mean)\n",
    "    return 'Avg_d_mbps in the tile you hover over is {} Mpbs.'.format(mean)\n",
    "\n",
    "if __name__ == '__main__':\n",
    "    app.run_server(use_reloader=False)  # Turn off reloader if inside Jupyter\n"
   ]
  },
  {
   "cell_type": "code",
   "execution_count": null,
   "metadata": {},
   "outputs": [],
   "source": []
  }
 ],
 "metadata": {
  "kernelspec": {
   "display_name": "Python 3",
   "language": "python",
   "name": "python3"
  },
  "language_info": {
   "codemirror_mode": {
    "name": "ipython",
    "version": 3
   },
   "file_extension": ".py",
   "mimetype": "text/x-python",
   "name": "python",
   "nbconvert_exporter": "python",
   "pygments_lexer": "ipython3",
   "version": "3.8.6"
  }
 },
 "nbformat": 4,
 "nbformat_minor": 4
}
