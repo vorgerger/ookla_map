{
 "cells": [
  {
   "cell_type": "markdown",
   "metadata": {},
   "source": [
    "## Import required libraries"
   ]
  },
  {
   "cell_type": "code",
   "execution_count": null,
   "metadata": {
    "scrolled": true
   },
   "outputs": [],
   "source": [
    "import geopandas\n",
    "import plotly.express as px\n",
    "import pandas as pd\n",
    "import dash\n",
    "import dash_core_components as dcc\n",
    "import dash_html_components as html\n",
    "from dash.dependencies import Input, Output"
   ]
  },
  {
   "cell_type": "markdown",
   "metadata": {},
   "source": [
    "## Read Ookla dataset\n",
    "[This tutorial](https://github.com/teamookla/ookla-open-data/blob/master/tutorials/aggregate_by_county_py.ipynb) shows how to download dataset automatically every quarter from [AWS server](https://registry.opendata.aws/speedtest-global-performance/). Since the file is very big and it takes time to download it, to read it and filter required data, I skip this phase here and will be using earlier created file with filtered data for Finland. "
   ]
  },
  {
   "cell_type": "code",
   "execution_count": null,
   "metadata": {},
   "outputs": [],
   "source": [
    "#world = geopandas.read_file('Data/OrigOoklaData/gps_mobile_tiles.shp')\n",
    "\n",
    "##print(world.head())\n",
    "##print(world.columns)\n"
   ]
  },
  {
   "cell_type": "markdown",
   "metadata": {},
   "source": [
    "### Filter data data for Finland\n",
    "Fitering is done using 'quadkey' information. You can check corresponding quadkeys from [Mapbox website](https://labs.mapbox.com/what-the-tile/)."
   ]
  },
  {
   "cell_type": "code",
   "execution_count": null,
   "metadata": {
    "scrolled": false
   },
   "outputs": [],
   "source": [
    "#finland = world[world['quadkey'].str.startswith('120120033')]\n",
    "#finland.to_file(\"finland.shp\")\n",
    "##print(finland.head())\n",
    "##print(finland.columns)\n"
   ]
  },
  {
   "cell_type": "markdown",
   "metadata": {},
   "source": [
    "#### Prepare data for choropleth_mapbox plotting\n",
    "Since downloading, reading and filtering data takes time. Below I use \"finland.shp\" file that has already been creted."
   ]
  },
  {
   "cell_type": "code",
   "execution_count": null,
   "metadata": {},
   "outputs": [],
   "source": [
    "finland = geopandas.read_file('Data/FinlandData/finland.shp') \n",
    "finland['avg_d_mbps'] = finland['avg_d_kbps']/1000 #create new column for avg_d_mbps.\n",
    "\n",
    "#print(finland.head())"
   ]
  },
  {
   "cell_type": "markdown",
   "metadata": {},
   "source": [
    "##### Quantiles\n",
    "Calculate quantiles for finland['avg_d_mbps'] in order to plot 'avg_d_mbps' in ranges. Bins for ranges are quantiles."
   ]
  },
  {
   "cell_type": "code",
   "execution_count": null,
   "metadata": {},
   "outputs": [],
   "source": [
    "bins = []\n",
    "for i in range(1,10,1): \n",
    "    bins.append(round(finland['avg_d_mbps'].quantile(i/10),1)) \n",
    "    \n",
    "bins.insert(0, 0)\n",
    "bins.append(finland['avg_d_mbps'].max())\n",
    "labels = ['<{}'.format(bins[1]),\n",
    "        '>={} & <{}'.format(bins[1],bins[2]),\n",
    "        '>={} & <{}'.format(bins[2],bins[3]),\n",
    "        '>={} & <{}'.format(bins[3],bins[4]),\n",
    "        '>={} & <{}'.format(bins[4],bins[5]),\n",
    "        '>={} & <{}'.format(bins[5],bins[6]),\n",
    "        '>={} & <{}'.format(bins[6],bins[7]),\n",
    "        '>={} & <{}'.format(bins[7],bins[8]),\n",
    "        '>={} & <{}'.format(bins[8],bins[9]),\n",
    "        '>={}'.format(bins[9])]"
   ]
  },
  {
   "cell_type": "markdown",
   "metadata": {},
   "source": [
    "Create new column 'avg_d_mbps_ranges' with corresponding ranges for 'avg_d_mbps'. \n",
    "Sort values in finland dataframe to allocate colour on the choropleth_mapbox plot in logical order."
   ]
  },
  {
   "cell_type": "code",
   "execution_count": null,
   "metadata": {},
   "outputs": [],
   "source": [
    "finland['avg_d_mbps_ranges'] = pd.cut(finland['avg_d_mbps'], bins=bins, labels=labels)\n",
    "finland = finland.sort_values(by=['avg_d_mbps'])\n",
    "#print(finland['avg_d_mbps_ranges'].unique())\n",
    "\n",
    "#finland = finland.head(1000) # is to limit data for running the dashboard on Heroku server."
   ]
  },
  {
   "cell_type": "markdown",
   "metadata": {},
   "source": [
    "## Plot data on the map"
   ]
  },
  {
   "cell_type": "code",
   "execution_count": null,
   "metadata": {
    "scrolled": false
   },
   "outputs": [],
   "source": [
    "fig = px.choropleth_mapbox(finland,\n",
    "                geojson=finland.geometry,\n",
    "                locations=finland.index,\n",
    "                color=\"avg_d_mbps_ranges\",\n",
    "                color_discrete_sequence= px.colors.sequential.Turbo_r,\n",
    "                opacity=0.5,\n",
    "                hover_data = ['avg_d_mbps_ranges','avg_d_mbps','avg_u_kbps','tests','devices'],\n",
    "                custom_data = ['avg_d_mbps'],\n",
    "                center = {'lat':60.2825,'lon':24.9271},\n",
    "                mapbox_style=\"open-street-map\")\n",
    "#fig.update_geos(fitbounds=\"locations\", visible=False)\n",
    "fig.show()"
   ]
  },
  {
   "cell_type": "markdown",
   "metadata": {},
   "source": [
    "## Create dashboard\n",
    "Dashboard inludes H1, H2, Markdown and choropleth_mapbox graph elements and a call back for hovering over a map tile. "
   ]
  },
  {
   "cell_type": "code",
   "execution_count": null,
   "metadata": {
    "scrolled": true
   },
   "outputs": [],
   "source": [
    "app = dash.Dash()\n",
    "\n",
    "## Three lines below are form running the dashboard on Heroku server.\n",
    "#USERNAME_PASSWORD_PAIRS = [['XXXX', 'XXXX']]\n",
    "#auth = dash_auth.BasicAuth(app,USERNAME_PASSWORD_PAIRS)\n",
    "#server = app.server\n",
    "\n",
    "app.layout = html.Div([\n",
    "    html.H1('Speedtest by Ookla Mobile Network'),\n",
    "    html.H2('Performance Map Tiles'),\n",
    "    dcc.Markdown('''\n",
    "                #### This dashbord was built using [Ookla Open Dataset](https://registry.opendata.aws/speedtest-global-performance/).\n",
    "                ##### Used data shows mobile (cellular) network performance metrics in zoom level 16 web mercator tiles (approximately 610.8 meters by 610.8 meters at the equator). \n",
    "            '''),\n",
    "\n",
    "    dcc.Graph(id='map',figure=fig),\n",
    "    html.Div([\n",
    "        html.H3(id='counter')\n",
    "    ],style={'display':'inline-block'})  \n",
    "])\n",
    "\n",
    "\n",
    "@app.callback(Output('counter', 'children'),\n",
    "              [Input('map', 'hoverData')])\n",
    "def find_counter(hoverData):\n",
    "    mean = hoverData['points'][0]['customdata'][0]\n",
    "    return 'Avg_d_mbps in the tile you hover over is {} Mpbs.'.format(mean)\n",
    "\n",
    "if __name__ == '__main__':\n",
    "    app.run_server(use_reloader=False)  # Turn off reloader if inside Jupyter\n"
   ]
  },
  {
   "cell_type": "code",
   "execution_count": null,
   "metadata": {},
   "outputs": [],
   "source": []
  }
 ],
 "metadata": {
  "kernelspec": {
   "display_name": "Python 3",
   "language": "python",
   "name": "python3"
  },
  "language_info": {
   "codemirror_mode": {
    "name": "ipython",
    "version": 3
   },
   "file_extension": ".py",
   "mimetype": "text/x-python",
   "name": "python",
   "nbconvert_exporter": "python",
   "pygments_lexer": "ipython3",
   "version": "3.8.6"
  }
 },
 "nbformat": 4,
 "nbformat_minor": 4
}
